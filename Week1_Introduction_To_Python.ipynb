{
 "cells": [
  {
   "cell_type": "markdown",
   "id": "5bd4e883",
   "metadata": {},
   "source": [
    "**Python Basics**"
   ]
  },
  {
   "cell_type": "code",
   "execution_count": 1,
   "id": "2a1b924c",
   "metadata": {},
   "outputs": [
    {
     "name": "stdout",
     "output_type": "stream",
     "text": [
      "num1= 6\n",
      "num2= 5\n"
     ]
    }
   ],
   "source": [
    "#integers variables\n",
    "#example swap two numbers\n",
    "num1 = 5\n",
    "num2 = 6\n",
    "\n",
    "temp = num1\n",
    "num1 = num2\n",
    "num2 = temp\n",
    "\n",
    "print(\"num1=\",num1)\n",
    "print(\"num2=\",num2)"
   ]
  },
  {
   "cell_type": "code",
   "execution_count": 2,
   "id": "3246a763",
   "metadata": {},
   "outputs": [
    {
     "name": "stdout",
     "output_type": "stream",
     "text": [
      "6\n"
     ]
    }
   ],
   "source": [
    "#string variables\n",
    "#example find the string of a string\n",
    "name = \"Fatima\"\n",
    "lenght = len(name)\n",
    "\n",
    "print(lenght)"
   ]
  },
  {
   "cell_type": "code",
   "execution_count": 12,
   "id": "02946b8b",
   "metadata": {},
   "outputs": [
    {
     "name": "stdout",
     "output_type": "stream",
     "text": [
      "54\n",
      "Iza\n",
      "55\n"
     ]
    }
   ],
   "source": [
    "#list \n",
    "numbers = [54, 16, 30,32,55]\n",
    "names = ['Fatima','Aziza','Iza']\n",
    "\n",
    "#to access individual element of the list\n",
    "print(numbers[0])\n",
    "print(names[2])\n",
    "print(numbers[-1]) #it will print from backword so the last element"
   ]
  },
  {
   "cell_type": "code",
   "execution_count": 13,
   "id": "3697cb83",
   "metadata": {},
   "outputs": [
    {
     "name": "stdout",
     "output_type": "stream",
     "text": [
      "5\n",
      "3\n"
     ]
    }
   ],
   "source": [
    "#to print the lenght of the list\n",
    "print(len(numbers))\n",
    "print(len(names))"
   ]
  },
  {
   "cell_type": "code",
   "execution_count": 22,
   "id": "20af36f5",
   "metadata": {},
   "outputs": [
    {
     "name": "stdout",
     "output_type": "stream",
     "text": [
      "[54, 16]\n",
      "[54, 30, 55]\n"
     ]
    }
   ],
   "source": [
    "print(numbers[0:2]) #it will print till 1 index\n",
    "print(numbers[0:5:2]) #it will skip one step and print like print the first element skip the second one print third skip fourth and so on till second index if we write 2 instead of 1 it will skip 2 element \n"
   ]
  },
  {
   "cell_type": "code",
   "execution_count": 23,
   "id": "216ba584",
   "metadata": {},
   "outputs": [
    {
     "name": "stdout",
     "output_type": "stream",
     "text": [
      "[16, 30, 32, 54, 55]\n"
     ]
    }
   ],
   "source": [
    "#to sort the list\n",
    "numbers.sort()\n",
    "print(numbers) #we connot write print(numbers.sort()) it will return nothing so we need to sort the list first then print"
   ]
  },
  {
   "cell_type": "code",
   "execution_count": 24,
   "id": "21d72c66",
   "metadata": {},
   "outputs": [
    {
     "name": "stdout",
     "output_type": "stream",
     "text": [
      "[55, 54, 32, 30, 16]\n"
     ]
    }
   ],
   "source": [
    "#to reverse the list\n",
    "numbers.reverse()\n",
    "print(numbers)"
   ]
  },
  {
   "cell_type": "code",
   "execution_count": 25,
   "id": "d177b0f2",
   "metadata": {},
   "outputs": [
    {
     "name": "stdout",
     "output_type": "stream",
     "text": [
      "55\n",
      "16\n"
     ]
    }
   ],
   "source": [
    "#print the min and max of the list\n",
    "print(max(numbers))\n",
    "print(min(numbers))"
   ]
  },
  {
   "cell_type": "code",
   "execution_count": 26,
   "id": "2416b36d",
   "metadata": {},
   "outputs": [
    {
     "name": "stdout",
     "output_type": "stream",
     "text": [
      "[55, 54, 32, 30, 16, 23]\n",
      "[55, 54, 45, 32, 30, 16, 23]\n",
      "[55, 54, 45, 32, 30, 16, 23, 58, 6, 74]\n"
     ]
    }
   ],
   "source": [
    "#to add element to the list\n",
    "numbers.append(23) #add at the end of the list\n",
    "print(numbers)\n",
    "\n",
    "numbers.insert(2, 45) #add at a specific position it will add 45 at the second index\n",
    "print(numbers)\n",
    "\n",
    "numbers.extend([58,6,74]) #add more than one element at one time at the end of the list\n",
    "print(numbers)\n"
   ]
  },
  {
   "cell_type": "code",
   "execution_count": 27,
   "id": "1649442b",
   "metadata": {},
   "outputs": [
    {
     "name": "stdout",
     "output_type": "stream",
     "text": [
      "[55, 12, 45, 32, 30, 16, 23, 58, 6, 74]\n",
      "[55, -4, 6, 5, 30, 16, 23, 58, 6, 74]\n"
     ]
    }
   ],
   "source": [
    "#to change an element of the list\n",
    "numbers[1] = 12\n",
    "print(numbers)\n",
    "\n",
    "numbers[1:4] = [-4, 6, 5] #change more than one element at the time\n",
    "print(numbers)"
   ]
  },
  {
   "cell_type": "code",
   "execution_count": 28,
   "id": "3b5f3c1c",
   "metadata": {},
   "outputs": [
    {
     "name": "stdout",
     "output_type": "stream",
     "text": [
      "[55, -4, 6, 5, 30, 16, 23, 6, 74]\n",
      "[55, -4, 6, 5, 30, 16, 23, 6]\n",
      "[55, 6, 5, 30, 16, 23, 6]\n"
     ]
    }
   ],
   "source": [
    "#remove element from the list\n",
    "numbers.remove(58)\n",
    "print(numbers)\n",
    "\n",
    "numbers.pop() #remove the last element\n",
    "print(numbers)\n",
    "\n",
    "numbers.pop(1) #we pass the index it the pop function to remove from a spefic index\n",
    "print(numbers)"
   ]
  },
  {
   "cell_type": "code",
   "execution_count": 29,
   "id": "d8d17f65",
   "metadata": {},
   "outputs": [
    {
     "name": "stdout",
     "output_type": "stream",
     "text": [
      "2\n"
     ]
    }
   ],
   "source": [
    "print(numbers.count(6)) #count how many time there are zero in the list"
   ]
  },
  {
   "cell_type": "code",
   "execution_count": 14,
   "id": "63f2b5ca",
   "metadata": {},
   "outputs": [
    {
     "name": "stdout",
     "output_type": "stream",
     "text": [
      "hey it's me,  Adam\n",
      "F\n",
      "a\n",
      "t\n",
      "i\n",
      "m\n",
      "a\n",
      "4\n",
      "25\n",
      "36\n",
      "64\n",
      "[4, 25, 36, 64]\n"
     ]
    }
   ],
   "source": [
    "#for loop\n",
    "names = [\"Ahmad\", \"Adam\", \"Ibrahim\"]\n",
    "for name in names:\n",
    "    if(name == 'Adam'):\n",
    "        print(\"hey it's me,\",name)\n",
    "    \n",
    "name1 = 'Fatima'\n",
    "for i in name1:\n",
    "    print(i)\n",
    "    \n",
    "squares = []  #we will define this empty list here and then store the square of element \n",
    "numbers = [2,5,-6,8]\n",
    "for i in numbers:\n",
    "    square = i**2 #calculate the square of each element\n",
    "    print(square)\n",
    "    squares.append(square) #store the square of each element in the squares list\n",
    "print(squares)"
   ]
  },
  {
   "cell_type": "code",
   "execution_count": 15,
   "id": "98dc4a49",
   "metadata": {},
   "outputs": [
    {
     "name": "stdout",
     "output_type": "stream",
     "text": [
      "2\n",
      "3\n",
      "5\n",
      "-1\n",
      "0\n",
      "53\n",
      "Sucessfully completed\n"
     ]
    }
   ],
   "source": [
    "#for else\n",
    "numbers = [2,3,5,-1,0,53]\n",
    "for i in numbers:\n",
    "    print(i)\n",
    "else: #this else statement will only be executed if the for loop completed sucesfully\n",
    "    print(\"Sucessfully completed\") "
   ]
  },
  {
   "cell_type": "code",
   "execution_count": 17,
   "id": "6b9e4a87",
   "metadata": {},
   "outputs": [
    {
     "name": "stdout",
     "output_type": "stream",
     "text": [
      "2\n",
      "3\n",
      "5\n",
      "-1\n",
      "0\n"
     ]
    }
   ],
   "source": [
    "for i in numbers:\n",
    "    print(i)\n",
    "    if(i == 0):\n",
    "        break\n",
    "else: #here the else statement will not be executed cause the for loop did not completed\n",
    "    print(\"Succesfully completed\")"
   ]
  },
  {
   "cell_type": "code",
   "execution_count": 20,
   "id": "198159e4",
   "metadata": {},
   "outputs": [
    {
     "name": "stdout",
     "output_type": "stream",
     "text": [
      "1\n",
      "2\n",
      "out from loop\n"
     ]
    }
   ],
   "source": [
    "#while loop\n",
    "count = 1\n",
    "while count <= 5:\n",
    "    print(count)\n",
    "    count +=1\n",
    "    if count == 3:\n",
    "        break\n",
    "else:\n",
    "    print(\"in else block\")\n",
    "print(\"out from loop\")\n"
   ]
  },
  {
   "cell_type": "code",
   "execution_count": 21,
   "id": "cf7c08be",
   "metadata": {},
   "outputs": [
    {
     "name": "stdout",
     "output_type": "stream",
     "text": [
      "hi\n",
      "Fatima\n"
     ]
    }
   ],
   "source": [
    "#functions\n",
    "#function syntax\n",
    "#def func_name(parameters):\n",
    "    #funtion body\n",
    "    #return expression\n",
    "    \n",
    "#func_name() ; call the function\n",
    "\n",
    "def greet():\n",
    "    print(\"hi\")\n",
    "    print(\"Fatima\")\n",
    "    \n",
    "greet()"
   ]
  },
  {
   "cell_type": "code",
   "execution_count": 22,
   "id": "8d8ed9ca",
   "metadata": {},
   "outputs": [
    {
     "data": {
      "text/plain": [
       "10"
      ]
     },
     "execution_count": 22,
     "metadata": {},
     "output_type": "execute_result"
    }
   ],
   "source": [
    "def function(height,weight):\n",
    "    area = height * weight\n",
    "    return area\n",
    "function(5,2)"
   ]
  },
  {
   "cell_type": "code",
   "execution_count": 24,
   "id": "8c41f5f2",
   "metadata": {},
   "outputs": [
    {
     "data": {
      "text/plain": [
       "9"
      ]
     },
     "execution_count": 24,
     "metadata": {},
     "output_type": "execute_result"
    }
   ],
   "source": [
    "def square(a):\n",
    "    result = a*a\n",
    "    return result\n",
    "square(3)"
   ]
  },
  {
   "cell_type": "code",
   "execution_count": 25,
   "id": "b0467fbc",
   "metadata": {},
   "outputs": [
    {
     "name": "stdout",
     "output_type": "stream",
     "text": [
      "9\n"
     ]
    }
   ],
   "source": [
    "result = lambda x: x*x\n",
    "print(result(3))"
   ]
  },
  {
   "cell_type": "code",
   "execution_count": 30,
   "id": "c20f6e14",
   "metadata": {},
   "outputs": [
    {
     "name": "stdout",
     "output_type": "stream",
     "text": [
      "{'Iza': 458, 'Fati': 896, 'Aziza': 712}\n"
     ]
    }
   ],
   "source": [
    "#dictionnary\n",
    "#syntax of dictionary\n",
    "#dict_name = {key:value}\n",
    "\n",
    "phone_no = {'Iza':458, 'Fati':896,'Aziza':712}\n",
    "print(phone_no)"
   ]
  },
  {
   "cell_type": "code",
   "execution_count": 31,
   "id": "2ef5fd79",
   "metadata": {},
   "outputs": [
    {
     "name": "stdout",
     "output_type": "stream",
     "text": [
      "896\n"
     ]
    }
   ],
   "source": [
    "#to access a specific value\n",
    "print(phone_no['Fati'])\n"
   ]
  },
  {
   "cell_type": "code",
   "execution_count": 32,
   "id": "163953b0",
   "metadata": {},
   "outputs": [
    {
     "name": "stdout",
     "output_type": "stream",
     "text": [
      "{'Iza': 453, 'Fati': 896, 'Aziza': 712}\n"
     ]
    }
   ],
   "source": [
    "#to change a value\n",
    "phone_no['Iza'] = 453\n",
    "print(phone_no)"
   ]
  },
  {
   "cell_type": "code",
   "execution_count": 33,
   "id": "6226f76f",
   "metadata": {},
   "outputs": [
    {
     "name": "stdout",
     "output_type": "stream",
     "text": [
      "{'Iza': 453, 'Fati': 896, 'Aziza': 712, 'Fatima': {485, 965}}\n"
     ]
    }
   ],
   "source": [
    "#to add to the dictonary\n",
    "phone_no[\"Fatima\"] = {965,485} #we can a list\n",
    "print(phone_no)"
   ]
  },
  {
   "cell_type": "code",
   "execution_count": 34,
   "id": "53695454",
   "metadata": {},
   "outputs": [
    {
     "name": "stdout",
     "output_type": "stream",
     "text": [
      "{'Iza': 453, 'Fati': {'Fati_home': 546, 'Fati_work': 698}, 'Aziza': 712, 'Fatima': {485, 965}}\n",
      "698\n"
     ]
    }
   ],
   "source": [
    "#we can have also a dictionary inside a dictionary\n",
    "phone_no['Fati'] = {'Fati_home':546,'Fati_work':698}\n",
    "print(phone_no)\n",
    "\n",
    "print(phone_no['Fati']['Fati_work'])"
   ]
  },
  {
   "cell_type": "code",
   "execution_count": 35,
   "id": "85ec0591",
   "metadata": {},
   "outputs": [
    {
     "name": "stdout",
     "output_type": "stream",
     "text": [
      "453\n"
     ]
    }
   ],
   "source": [
    "#we can also use get method to access value of dictionnary\n",
    "print(phone_no.get('Iza'))"
   ]
  },
  {
   "cell_type": "code",
   "execution_count": 36,
   "id": "7b9acb58",
   "metadata": {},
   "outputs": [
    {
     "name": "stdout",
     "output_type": "stream",
     "text": [
      "dict_keys(['Iza', 'Fati', 'Aziza', 'Fatima'])\n",
      "dict_values([453, {'Fati_home': 546, 'Fati_work': 698}, 712, {485, 965}])\n",
      "dict_items([('Iza', 453), ('Fati', {'Fati_home': 546, 'Fati_work': 698}), ('Aziza', 712), ('Fatima', {485, 965})])\n"
     ]
    }
   ],
   "source": [
    "#to get only the keys, values,items\n",
    "print(phone_no.keys())\n",
    "print(phone_no.values())\n",
    "print(phone_no.items())"
   ]
  },
  {
   "cell_type": "code",
   "execution_count": 37,
   "id": "9467ef79",
   "metadata": {},
   "outputs": [
    {
     "name": "stdout",
     "output_type": "stream",
     "text": [
      "Iza\n",
      "453\n",
      "Fati\n",
      "{'Fati_home': 546, 'Fati_work': 698}\n",
      "Aziza\n",
      "712\n",
      "Fatima\n",
      "{485, 965}\n",
      "('Iza', 453)\n",
      "('Fati', {'Fati_home': 546, 'Fati_work': 698})\n",
      "('Aziza', 712)\n",
      "('Fatima', {485, 965})\n"
     ]
    }
   ],
   "source": [
    "for i in phone_no:\n",
    "    print(i)#it will print the keys only\n",
    "    print(phone_no[i]) #it will print the values\n",
    "    \n",
    "for i in phone_no.items():\n",
    "    print(i) \n",
    "    \n",
    "#phone_no2 = phone_no.copy() to copy the dictionnary to phone_no2"
   ]
  },
  {
   "cell_type": "code",
   "execution_count": 38,
   "id": "49a02884",
   "metadata": {},
   "outputs": [
    {
     "name": "stdout",
     "output_type": "stream",
     "text": [
      "4\n"
     ]
    }
   ],
   "source": [
    "#to print the lenght of dictionnary\n",
    "print(len(phone_no))"
   ]
  },
  {
   "cell_type": "code",
   "execution_count": 39,
   "id": "906f3416",
   "metadata": {},
   "outputs": [
    {
     "name": "stdout",
     "output_type": "stream",
     "text": [
      "{'Iza': 453, 'Aziza': 712, 'Fatima': {485, 965}}\n"
     ]
    }
   ],
   "source": [
    "#to delete\n",
    "del phone_no['Fati']\n",
    "print(phone_no)"
   ]
  },
  {
   "cell_type": "code",
   "execution_count": 40,
   "id": "e1aa5667",
   "metadata": {},
   "outputs": [
    {
     "name": "stdout",
     "output_type": "stream",
     "text": [
      "{'Iza': 453, 'Aziza': 712}\n"
     ]
    }
   ],
   "source": [
    "#we can also use pop to delete\n",
    "phone_no.pop('Fatima') #if we use print here it will return the value to be removed\n",
    "print(phone_no)"
   ]
  },
  {
   "cell_type": "code",
   "execution_count": 41,
   "id": "5a114b76",
   "metadata": {},
   "outputs": [
    {
     "name": "stdout",
     "output_type": "stream",
     "text": [
      "{'Iza': 453}\n",
      "{}\n"
     ]
    }
   ],
   "source": [
    "phone_no.popitem() #delete the last element\n",
    "print(phone_no)\n",
    "\n",
    "phone_no.clear()#to remove all the element from dictionary\n",
    "print(phone_no)"
   ]
  },
  {
   "cell_type": "code",
   "execution_count": null,
   "id": "c8b7c694",
   "metadata": {},
   "outputs": [],
   "source": []
  }
 ],
 "metadata": {
  "kernelspec": {
   "display_name": "Python 3 (ipykernel)",
   "language": "python",
   "name": "python3"
  },
  "language_info": {
   "codemirror_mode": {
    "name": "ipython",
    "version": 3
   },
   "file_extension": ".py",
   "mimetype": "text/x-python",
   "name": "python",
   "nbconvert_exporter": "python",
   "pygments_lexer": "ipython3",
   "version": "3.11.5"
  }
 },
 "nbformat": 4,
 "nbformat_minor": 5
}
